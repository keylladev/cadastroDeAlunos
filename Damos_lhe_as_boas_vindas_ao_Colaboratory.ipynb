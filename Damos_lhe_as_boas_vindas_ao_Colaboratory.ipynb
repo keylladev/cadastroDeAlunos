{
  "cells": [
    {
      "cell_type": "markdown",
      "metadata": {
        "id": "view-in-github",
        "colab_type": "text"
      },
      "source": [
        "<a href=\"https://colab.research.google.com/github/keylladev/cadastroDeAlunos/blob/master/Damos_lhe_as_boas_vindas_ao_Colaboratory.ipynb\" target=\"_parent\"><img src=\"https://colab.research.google.com/assets/colab-badge.svg\" alt=\"Open In Colab\"/></a>"
      ]
    },
    {
      "cell_type": "code",
      "source": [
        "print(\"Hello Word!\")"
      ],
      "metadata": {
        "id": "rWVdyZXf4e0X",
        "outputId": "1a7d82fc-894c-4cd5-8138-3b810c79694e",
        "colab": {
          "base_uri": "https://localhost:8080/"
        }
      },
      "execution_count": 2,
      "outputs": [
        {
          "output_type": "stream",
          "name": "stdout",
          "text": [
            "Hello Word!\n"
          ]
        }
      ]
    },
    {
      "cell_type": "code",
      "source": [
        "x = 10\n",
        "nome ='aluno'\n",
        "nota = 8.75\n",
        "fez_inscricao = True"
      ],
      "metadata": {
        "id": "TUtD1xqj5OUX"
      },
      "execution_count": 3,
      "outputs": []
    },
    {
      "cell_type": "code",
      "source": [
        "nome = input(\"Digite seu nome: \")\n"
      ],
      "metadata": {
        "id": "rQFdwKef8xD3",
        "outputId": "71d618d3-07a6-4674-c9f6-0b1b114fb109",
        "colab": {
          "base_uri": "https://localhost:8080/"
        }
      },
      "execution_count": 8,
      "outputs": [
        {
          "name": "stdout",
          "output_type": "stream",
          "text": [
            "Digite seu nome: Keylla\n"
          ]
        }
      ]
    },
    {
      "cell_type": "code",
      "source": [
        "print (nome)"
      ],
      "metadata": {
        "id": "7MJzfsrx9OLG",
        "outputId": "8ca2918f-f4d4-4370-c974-83e667a9d364",
        "colab": {
          "base_uri": "https://localhost:8080/"
        }
      },
      "execution_count": 9,
      "outputs": [
        {
          "output_type": "stream",
          "name": "stdout",
          "text": [
            "Keylla\n"
          ]
        }
      ]
    },
    {
      "cell_type": "code",
      "source": [
        "#f-string\n",
        "print(f\"Olá {nome}, Bem-vindo a disciplina de programação. Parabéns pelo seu primeiro hello word!\")"
      ],
      "metadata": {
        "id": "ky2cpetr880e",
        "outputId": "926e9613-604c-438a-c732-2568549fa3e6",
        "colab": {
          "base_uri": "https://localhost:8080/"
        }
      },
      "execution_count": 10,
      "outputs": [
        {
          "output_type": "stream",
          "name": "stdout",
          "text": [
            "Olá Keylla, Bem-vindo a disciplina de programação. Parabéns pelo seu primeiro hello word!\n"
          ]
        }
      ]
    },
    {
      "cell_type": "code",
      "source": [
        "Nota_1 = int(input(\"Digite a primeira nota: \"))\n",
        "Nota_2 = int(input(\"Digite a segunda nota: \"))\n",
        "Nota_3 = int(input(\"Digite a terceira nota: \"))\n",
        "Nota_4 = int(input(\"Digite a quarta nota: \"))\n"
      ],
      "metadata": {
        "id": "0zOO_XyW-atG",
        "outputId": "979614e2-9052-4942-f40f-444c46a3fb59",
        "colab": {
          "base_uri": "https://localhost:8080/"
        }
      },
      "execution_count": 11,
      "outputs": [
        {
          "name": "stdout",
          "output_type": "stream",
          "text": [
            "Digite a primeira nota: 5\n",
            "Digite a segunda nota: 6\n",
            "Digite a terceira nota: 7\n",
            "Digite a quarta nota: 9\n"
          ]
        }
      ]
    },
    {
      "cell_type": "code",
      "source": [
        "#condição para a aprovação do aluno\n",
        "media = (Nota_1 + Nota_2 + Nota_3 + Nota_4)/4\n",
        "\n",
        "if media >= 6:\n",
        "  situacao = \"Aprovado\"\n",
        "else:\n",
        "  situacao = \"Reprovado\"\n"
      ],
      "metadata": {
        "id": "BWvyZnDnAey1"
      },
      "execution_count": 12,
      "outputs": []
    },
    {
      "cell_type": "code",
      "source": [
        "#dadas as notas aqui mostra a media final e a situação do aluno\n",
        "print(f\"A média do aluno é {media} e sua situação é {situacao}\")"
      ],
      "metadata": {
        "id": "zexgKS4DA9Ku",
        "outputId": "c8621549-f7b4-4ec2-cce9-f6a1316c478b",
        "colab": {
          "base_uri": "https://localhost:8080/"
        }
      },
      "execution_count": 13,
      "outputs": [
        {
          "output_type": "stream",
          "name": "stdout",
          "text": [
            "A média do aluno é 6.75 e sua situação é Aprovado\n"
          ]
        }
      ]
    }
  ],
  "metadata": {
    "colab": {
      "name": "Damos-lhe as boas-vindas ao Colaboratory",
      "provenance": [],
      "include_colab_link": true
    },
    "kernelspec": {
      "display_name": "Python 3",
      "name": "python3"
    }
  },
  "nbformat": 4,
  "nbformat_minor": 0
}